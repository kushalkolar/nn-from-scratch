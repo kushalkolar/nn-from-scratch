{
 "cells": [
  {
   "cell_type": "code",
   "execution_count": 1,
   "id": "f604fc1b-5cbf-4a0c-9c96-6d2e0d3a7a28",
   "metadata": {},
   "outputs": [],
   "source": [
    "import numpy as np\n",
    "from matplotlib import pyplot as plt\n",
    "from tqdm import tqdm"
   ]
  },
  {
   "cell_type": "markdown",
   "id": "938dd88c-6d6c-475f-a859-167a6ae57ec8",
   "metadata": {},
   "source": [
    "Single neuron"
   ]
  },
  {
   "cell_type": "code",
   "execution_count": 2,
   "id": "64a07b3c-f012-4ab5-8072-a72464bb35d8",
   "metadata": {},
   "outputs": [],
   "source": [
    "inputs = [1.2, 5.1, 2.1]"
   ]
  },
  {
   "cell_type": "code",
   "execution_count": 3,
   "id": "0e09c54f-3a35-4de7-8c57-d2d2ce8b2dfc",
   "metadata": {},
   "outputs": [],
   "source": [
    "weights = [3.1, 2.1, 8.7]"
   ]
  },
  {
   "cell_type": "code",
   "execution_count": 4,
   "id": "832036bc-2ce3-45e7-81f3-df44a18de7b6",
   "metadata": {},
   "outputs": [],
   "source": [
    "bias = 3"
   ]
  },
  {
   "cell_type": "code",
   "execution_count": 5,
   "id": "3a17eba6-7b10-4552-a6c0-8ab9ee29a5b7",
   "metadata": {},
   "outputs": [],
   "source": [
    "output = sum([i * w for i, w in zip(inputs, weights)]) + bias"
   ]
  },
  {
   "cell_type": "code",
   "execution_count": 6,
   "id": "e4d00926-8823-4686-b9b8-566a04a11dcc",
   "metadata": {},
   "outputs": [
    {
     "data": {
      "text/plain": [
       "35.7"
      ]
     },
     "execution_count": 6,
     "metadata": {},
     "output_type": "execute_result"
    }
   ],
   "source": [
    "output"
   ]
  },
  {
   "cell_type": "code",
   "execution_count": 7,
   "id": "b9399836-fede-43ad-8496-ddbc2702dc63",
   "metadata": {},
   "outputs": [
    {
     "data": {
      "text/plain": [
       "35.7"
      ]
     },
     "execution_count": 7,
     "metadata": {},
     "output_type": "execute_result"
    }
   ],
   "source": [
    "np.dot(inputs, weights) + bias"
   ]
  },
  {
   "cell_type": "markdown",
   "id": "15ee3983-9fd0-46d0-902c-2878f260b7b8",
   "metadata": {},
   "source": [
    "Layer of neurons, inputs same, weights and bias unique to each neuron"
   ]
  },
  {
   "cell_type": "code",
   "execution_count": 45,
   "id": "fa587b07-540e-4f5c-bf5e-211e33b779b9",
   "metadata": {},
   "outputs": [],
   "source": [
    "weights = [[3.1, 2.1, 8.7], [4.2, 6.7, 9.1]]#, [0.1, 2.3, 5.8], [3.5, 2.7, 9.2]]\n",
    "biases = [3, 1]#, 9]"
   ]
  },
  {
   "cell_type": "code",
   "execution_count": 46,
   "id": "b5c9ba18-fa35-41d4-bd1f-f2de4545360f",
   "metadata": {},
   "outputs": [
    {
     "data": {
      "text/plain": [
       "[35.7, 59.32]"
      ]
     },
     "execution_count": 46,
     "metadata": {},
     "output_type": "execute_result"
    }
   ],
   "source": [
    "layer_outputs = [np.dot(inputs, weights[i]) + biases[i] for i in range(len(biases))]\n",
    "layer_outputs"
   ]
  },
  {
   "cell_type": "code",
   "execution_count": 48,
   "id": "f8c6bf22-4c54-4b19-bc46-9dbd71d54937",
   "metadata": {},
   "outputs": [
    {
     "data": {
      "text/plain": [
       "array([[3.1, 2.1, 8.7],\n",
       "       [4.2, 6.7, 9.1]])"
      ]
     },
     "execution_count": 48,
     "metadata": {},
     "output_type": "execute_result"
    }
   ],
   "source": [
    "np.array(weights)"
   ]
  },
  {
   "cell_type": "code",
   "execution_count": 49,
   "id": "eb14d016-d720-4d59-954f-fdb5a7eddbc9",
   "metadata": {},
   "outputs": [
    {
     "data": {
      "text/plain": [
       "(2, 3)"
      ]
     },
     "execution_count": 49,
     "metadata": {},
     "output_type": "execute_result"
    }
   ],
   "source": [
    "np.array(weights).shape"
   ]
  },
  {
   "cell_type": "code",
   "execution_count": 10,
   "id": "54c257a0-eb85-4fae-bcf9-3578fb8a5738",
   "metadata": {},
   "outputs": [],
   "source": [
    "class Layer:\n",
    "    def __init__(self, weights, biases):\n",
    "        self.weights = weights\n",
    "        self.biases = biases\n",
    "        \n",
    "    def get_output(self, inputs):\n",
    "        return [np.dot(inputs, self.weights[i]) + self.biases[i] for i in range(len(self.biases))]"
   ]
  },
  {
   "cell_type": "code",
   "execution_count": 28,
   "id": "1ece68b1-28ff-4db6-8896-f6c59dda7f34",
   "metadata": {},
   "outputs": [],
   "source": [
    "l = Layer(np.array(weights), np.array(biases))"
   ]
  },
  {
   "cell_type": "code",
   "execution_count": 32,
   "id": "e4d5e185-4a9e-4d7f-baa7-372606f16b42",
   "metadata": {},
   "outputs": [
    {
     "data": {
      "text/plain": [
       "[35.7, 59.32, 33.03]"
      ]
     },
     "execution_count": 32,
     "metadata": {},
     "output_type": "execute_result"
    }
   ],
   "source": [
    "l.get_output(np.array(inputs))"
   ]
  },
  {
   "cell_type": "code",
   "execution_count": 87,
   "id": "2a299f99-56ef-4825-9f31-388cb8c67b2f",
   "metadata": {},
   "outputs": [],
   "source": [
    "def create_random_layer(n_neurons, n_inputs):\n",
    "    return Layer(\n",
    "        weights=(np.random.rand(n_neurons, n_inputs) * 10)  - 5,\n",
    "        biases=(np.random.rand(n_neurons) * 10) - 5\n",
    "    )"
   ]
  },
  {
   "cell_type": "code",
   "execution_count": 97,
   "id": "99563ce2-6243-4797-81d3-9fa4824afb6e",
   "metadata": {},
   "outputs": [
    {
     "name": "stdout",
     "output_type": "stream",
     "text": [
      "[[-1.08383258 -0.91270088  1.13258546]\n",
      " [ 2.82811154  1.44479022  3.44246238]]\n",
      "[ 2.1794636  -3.26099868]\n"
     ]
    }
   ],
   "source": [
    "lr = create_random_layer(n_neurons=2, n_inputs=3)\n",
    "print(lr.weights)\n",
    "print(lr.biases)"
   ]
  },
  {
   "cell_type": "code",
   "execution_count": 89,
   "id": "bec84c59-cad1-48c9-9743-b6fcb84bf33e",
   "metadata": {},
   "outputs": [
    {
     "data": {
      "text/plain": [
       "[24.1149255690157, 6.382199109248088]"
      ]
     },
     "execution_count": 89,
     "metadata": {},
     "output_type": "execute_result"
    }
   ],
   "source": [
    "lr.get_output(inputs)"
   ]
  },
  {
   "cell_type": "code",
   "execution_count": 230,
   "id": "9111e5a6-7a25-4d81-a3ba-8b86a3a43432",
   "metadata": {},
   "outputs": [],
   "source": [
    "from sklearn.preprocessing import MinMaxScaler\n",
    "from sklearn.datasets import load_digits\n",
    "from random import choice"
   ]
  },
  {
   "cell_type": "code",
   "execution_count": 231,
   "id": "92bff283-57e9-4100-86b5-9009b7c6be97",
   "metadata": {},
   "outputs": [],
   "source": [
    "mnist_dataset = load_digits()"
   ]
  },
  {
   "cell_type": "code",
   "execution_count": 232,
   "id": "e8371ac1-2f95-4c40-9146-aef43c8944e6",
   "metadata": {},
   "outputs": [
    {
     "data": {
      "text/plain": [
       "<matplotlib.image.AxesImage at 0x7f6b1ace7f10>"
      ]
     },
     "execution_count": 232,
     "metadata": {},
     "output_type": "execute_result"
    },
    {
     "data": {
      "image/png": "[encoded data removed]",
      "text/plain": [
       "<Figure size 432x288 with 1 Axes>"
      ]
     },
     "metadata": {
      "needs_background": "light"
     },
     "output_type": "display_data"
    }
   ],
   "source": [
    "dataset = mnist_dataset[\"data\"]\n",
    "\n",
    "plt.imshow(dataset[1].reshape(8, 8))"
   ]
  },
  {
   "cell_type": "code",
   "execution_count": 233,
   "id": "61a7c9ab-a216-41ad-bf1e-97ac4fe7ed29",
   "metadata": {},
   "outputs": [],
   "source": [
    "targets = mnist_dataset[\"target\"]"
   ]
  },
  {
   "cell_type": "code",
   "execution_count": 234,
   "id": "ba0e1975-b556-4ab7-b1f4-550ed396021e",
   "metadata": {},
   "outputs": [],
   "source": [
    "def get_data_choice(target_val: int):\n",
    "    return dataset[choice(np.where(targets == target_val)[0])]"
   ]
  },
  {
   "cell_type": "code",
   "execution_count": 235,
   "id": "76c61f22-6d7a-4b1a-9203-bc8f1db0626a",
   "metadata": {},
   "outputs": [
    {
     "data": {
      "text/plain": [
       "<matplotlib.image.AxesImage at 0x7f6b1b2556c0>"
      ]
     },
     "execution_count": 235,
     "metadata": {},
     "output_type": "execute_result"
    },
    {
     "data": {
      "image/png": "[encoded data removed]",
      "text/plain": [
       "<Figure size 432x288 with 1 Axes>"
      ]
     },
     "metadata": {
      "needs_background": "light"
     },
     "output_type": "display_data"
    }
   ],
   "source": [
    "plt.imshow(get_data_choice(6).reshape(8, 8))"
   ]
  },
  {
   "cell_type": "code",
   "execution_count": 296,
   "id": "316e83ff-fa2d-4e5a-813f-a49038ad2c0a",
   "metadata": {},
   "outputs": [],
   "source": [
    "from typing import *"
   ]
  },
  {
   "cell_type": "code",
   "execution_count": 321,
   "id": "ad759f42-40fe-4e1a-8272-758b0deb59be",
   "metadata": {},
   "outputs": [
    {
     "name": "stderr",
     "output_type": "stream",
     "text": [
      "100%|████████████████████████████████████████████████████████████████████| 3000/3000 [00:22<00:00, 134.70it/s]\n"
     ]
    }
   ],
   "source": [
    "n_epochs = 3000\n",
    "losses = list()\n",
    "models: List[dict] = list()\n",
    "\n",
    "for epoch in tqdm(range(n_epochs)):\n",
    "    input_layer = create_random_layer(n_neurons=128, n_inputs=64)\n",
    "\n",
    "    dense_layers = [create_random_layer(n_neurons=128, n_inputs=128) for i in range(10)]\n",
    "\n",
    "    output_layer = create_random_layer(n_neurons=10, n_inputs=128)\n",
    "\n",
    "    target = 6\n",
    "\n",
    "    input_data = MinMaxScaler((0, 1)).fit_transform(get_data_choice(target).reshape(-1, 1)).ravel()\n",
    "\n",
    "    previous_output = input_layer.get_output(input_data)\n",
    "\n",
    "    for dl in dense_layers:\n",
    "        previous_output = dl.get_output(previous_output)\n",
    "\n",
    "    output = np.array(output_layer.get_output(previous_output))\n",
    "\n",
    "    scaled_output = MinMaxScaler((0, 1)).fit_transform(output.reshape(-1, 1)).ravel()\n",
    "\n",
    "    target_output = np.zeros(10)\n",
    "    target_output[target] = 1\n",
    "\n",
    "    loss = euclidean(target_output, scaled_output)\n",
    "    losses.append(loss)\n",
    "    \n",
    "    models.append(\n",
    "        {\n",
    "            \"input_layer\": input_layer, \n",
    "            \"dense_layers\": dense_layers,\n",
    "            \"output_layer\": output_layer,\n",
    "            \"input_data\": input_data,\n",
    "            \"scaled_output\": scaled_output\n",
    "        }\n",
    "    )"
   ]
  },
  {
   "cell_type": "code",
   "execution_count": 322,
   "id": "96435636-ff3e-4c4a-b9d2-c74d3c88fe1f",
   "metadata": {},
   "outputs": [
    {
     "name": "stdout",
     "output_type": "stream",
     "text": [
      "2913\n",
      "0.808132797881967\n"
     ]
    },
    {
     "data": {
      "image/png": "[encoded data removed]",
      "text/plain": [
       "<Figure size 432x288 with 1 Axes>"
      ]
     },
     "metadata": {
      "needs_background": "light"
     },
     "output_type": "display_data"
    }
   ],
   "source": [
    "plt.plot(losses)\n",
    "print(np.argmin(losses))\n",
    "print(np.min(losses))"
   ]
  },
  {
   "cell_type": "code",
   "execution_count": 323,
   "id": "bfc6498e-7873-4085-a67d-8c674d1524ca",
   "metadata": {},
   "outputs": [
    {
     "data": {
      "text/plain": [
       "array([0.39012089, 0.2979694 , 0.30584001, 0.35070296, 0.2550613 ,\n",
       "       0.27318156, 1.        , 0.        , 0.19342115, 0.13591062])"
      ]
     },
     "execution_count": 323,
     "metadata": {},
     "output_type": "execute_result"
    }
   ],
   "source": [
    "models[2913][\"scaled_output\"]"
   ]
  },
  {
   "cell_type": "code",
   "execution_count": 448,
   "id": "da5971ed-8793-4328-9656-9c96a3b33d7e",
   "metadata": {},
   "outputs": [],
   "source": [
    "def test_model(index: int):\n",
    "    input_layer = models[2913][\"input_layer\"]\n",
    "\n",
    "    dense_layers = models[2913][\"dense_layers\"]\n",
    "\n",
    "    output_layer = models[2913][\"output_layer\"]\n",
    "\n",
    "    target = 6\n",
    "\n",
    "    input_data = MinMaxScaler((0, 1)).fit_transform(get_data_choice(target).reshape(-1, 1)).ravel()\n",
    "\n",
    "    previous_output = input_layer.get_output(input_data)\n",
    "\n",
    "    for dl in dense_layers:\n",
    "        previous_output = dl.get_output(previous_output)\n",
    "\n",
    "    output = np.array(output_layer.get_output(previous_output))\n",
    "\n",
    "    scaled_output = MinMaxScaler((0, 1)).fit_transform(output.reshape(-1, 1)).ravel()\n",
    "    \n",
    "    print(f\"predicted: {np.argmax(scaled_output)}\")\n",
    "    plt.imshow(input_data.reshape(8, 8))"
   ]
  },
  {
   "cell_type": "code",
   "execution_count": 449,
   "id": "7481b131-8b68-40ac-beed-95be009cc3dc",
   "metadata": {},
   "outputs": [
    {
     "name": "stdout",
     "output_type": "stream",
     "text": [
      "predicted: 6\n"
     ]
    },
    {
     "data": {
      "image/png": "[encoded data removed]",
      "text/plain": [
       "<Figure size 432x288 with 1 Axes>"
      ]
     },
     "metadata": {
      "needs_background": "light"
     },
     "output_type": "display_data"
    }
   ],
   "source": [
    "test_model(2913)"
   ]
  },
  {
   "cell_type": "code",
   "execution_count": null,
   "id": "3d325280-869b-417b-8b3c-d534ef41afb6",
   "metadata": {},
   "outputs": [],
   "source": []
  }
 ],
 "metadata": {
  "kernelspec": {
   "display_name": "Python 3 (ipykernel)",
   "language": "python",
   "name": "python3"
  },
  "language_info": {
   "codemirror_mode": {
    "name": "ipython",
    "version": 3
   },
   "file_extension": ".py",
   "mimetype": "text/x-python",
   "name": "python",
   "nbconvert_exporter": "python",
   "pygments_lexer": "ipython3",
   "version": "3.10.5"
  }
 },
 "nbformat": 4,
 "nbformat_minor": 5
}
